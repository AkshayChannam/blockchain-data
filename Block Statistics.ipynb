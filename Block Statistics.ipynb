{
 "cells": [
  {
   "cell_type": "markdown",
   "metadata": {},
   "source": [
    "<h1 align=\"center\">Block Statistics</h1>\n",
    "<h2 align=\"center\">Bruno Gonçalves</h2>\n",
    "<h4 align=\"center\">bgoncalves@gmail.com</h4>\n",
    "<h4 align=\"center\">@bgoncalves</h4>"
   ]
  },
  {
   "cell_type": "code",
   "execution_count": 1,
   "metadata": {
    "collapsed": true
   },
   "outputs": [],
   "source": [
    "import gzip\n",
    "import numpy as np\n",
    "import pandas as pd\n",
    "import sys\n",
    "import igraph\n",
    "from tqdm import tqdm \n",
    "import pickle\n",
    "import os\n",
    "import numpy as np\n",
    "\n",
    "import matplotlib.pyplot as plt\n",
    "%matplotlib inline"
   ]
  },
  {
   "cell_type": "markdown",
   "metadata": {},
   "source": [
    "# Graph Analysis"
   ]
  },
  {
   "cell_type": "markdown",
   "metadata": {},
   "source": [
    "In principle, the blockchain is just that, a chain. However, since there is no central authority coordinating the efforts of the miners we sometimes end up with two blocks competing for validation at the same time. This results in a temporary fork in the chain. After one of the two competing blocks gets a successor, the losing candidate block is automatically invalidated and its transactions get returned to the mempool."
   ]
  },
  {
   "cell_type": "markdown",
   "metadata": {},
   "source": []
  },
  {
   "cell_type": "code",
   "execution_count": 36,
   "metadata": {},
   "outputs": [],
   "source": [
    "G = igraph.Graph()\n",
    "blocks = {}\n",
    "\n",
    "line_count = 0\n",
    "block_count = 0\n",
    "\n",
    "if os.path.exists(\"undirected.pickle\"):\n",
    "    G = igraph.read(\"undirected.pickle\")\n",
    "    blocks = pickle.load(open(\"blocks.pickle\", \"rb\"))\n",
    "else:\n",
    "    for line in tqdm(gzip.open('blocks.dat.gz', 'rt'), total=566015):\n",
    "        fields = line.strip().split()\n",
    "\n",
    "        line_count += 1\n",
    "\n",
    "        if line_count == 1:\n",
    "            continue\n",
    "\n",
    "        # block_count timestamp hash previous_block_hash n_transactions txid reward difficulty bits nonce size\n",
    "        timestamp = fields[1]\n",
    "        node_i = fields[2]\n",
    "        node_j = fields[3]\n",
    "        ntranx = int(fields[4])\n",
    "        size = int(fields[-1])\n",
    "\n",
    "        if node_j not in blocks:\n",
    "            blocks[node_j] = block_count\n",
    "            block_count += 1\n",
    "            node_j = blocks[node_j]\n",
    "            G.add_vertex(node_j)\n",
    "        else:\n",
    "            node_j = blocks[node_j]\n",
    "\n",
    "        if node_i not in blocks:\n",
    "            blocks[node_i] = block_count\n",
    "            block_count += 1\n",
    "            node_i = blocks[node_i]\n",
    "            G.add_vertex(node_i)\n",
    "        else:\n",
    "            node_i = blocks[node_i]\n",
    "\n",
    "        G.vs[node_i][\"prev\"] = node_j,\n",
    "        G.vs[node_i][\"timestamp\"] = timestamp,\n",
    "        G.vs[node_i][\"ntrax\"] = ntranx,\n",
    "        G.vs[node_i][\"size\"] = size\n",
    "\n",
    "        G.add_edge(node_i, node_j)\n",
    "    \n",
    "    G.save('undirected.pickle', 'pickle')\n",
    "    pickle.dump(blocks, open(\"blocks.pickle\", \"wb\"))"
   ]
  },
  {
   "cell_type": "code",
   "execution_count": 37,
   "metadata": {},
   "outputs": [
    {
     "data": {
      "text/plain": [
       "'IGRAPH UN-- 566015 566014 -- \\n+ attr: name (v), ntrax (v), prev (v), size (v), timestamp (v)'"
      ]
     },
     "execution_count": 37,
     "metadata": {},
     "output_type": "execute_result"
    }
   ],
   "source": [
    "G.summary()"
   ]
  },
  {
   "cell_type": "code",
   "execution_count": 38,
   "metadata": {},
   "outputs": [],
   "source": [
    "degrees = np.array(G.degree()) # The degree of each block\n",
    "ids = np.array(G.vs[\"name\"]) # Unique id\n",
    "\n",
    "dangling = ids[degrees<2] # leaves have degree 1.\n",
    "dangling = dangling[1:-1] # Remove root and most recent leaf"
   ]
  },
  {
   "cell_type": "markdown",
   "metadata": {},
   "source": []
  },
  {
   "cell_type": "code",
   "execution_count": 39,
   "metadata": {},
   "outputs": [],
   "source": [
    "remove = []\n",
    "branches = []\n",
    "\n",
    "for count, source in enumerate(dangling):\n",
    "    current = source\n",
    "    branches.append([])\n",
    "\n",
    "    while degrees[current] <=2:\n",
    "        branches[-1].append(current)\n",
    "        remove.append(current)\n",
    "        current = G.vs[current][\"prev\"][0] "
   ]
  },
  {
   "cell_type": "code",
   "execution_count": 40,
   "metadata": {},
   "outputs": [
    {
     "data": {
      "text/plain": [
       "True"
      ]
     },
     "execution_count": 40,
     "metadata": {},
     "output_type": "execute_result"
    }
   ],
   "source": [
    "len(remove) == len(branches)"
   ]
  },
  {
   "cell_type": "code",
   "execution_count": 41,
   "metadata": {},
   "outputs": [],
   "source": [
    "G.delete_vertices(remove)"
   ]
  },
  {
   "cell_type": "code",
   "execution_count": 42,
   "metadata": {},
   "outputs": [
    {
     "data": {
      "text/plain": [
       "'IGRAPH UN-- 565964 565963 -- \\n+ attr: name (v), ntrax (v), prev (v), size (v), timestamp (v)'"
      ]
     },
     "execution_count": 42,
     "metadata": {},
     "output_type": "execute_result"
    }
   ],
   "source": [
    "G.summary()"
   ]
  },
  {
   "cell_type": "code",
   "execution_count": 116,
   "metadata": {},
   "outputs": [],
   "source": [
    "block_ids = [item[0] for item in blocks.items() if item[1] not in remove]"
   ]
  },
  {
   "cell_type": "code",
   "execution_count": 117,
   "metadata": {},
   "outputs": [
    {
     "data": {
      "text/plain": [
       "565964"
      ]
     },
     "execution_count": 117,
     "metadata": {},
     "output_type": "execute_result"
    }
   ],
   "source": [
    "len(block_ids)"
   ]
  },
  {
   "cell_type": "code",
   "execution_count": 118,
   "metadata": {},
   "outputs": [],
   "source": [
    "block_ids.remove('0000000000000000000000000000000000000000000000000000000000000000') #Remove coinbase"
   ]
  },
  {
   "cell_type": "markdown",
   "metadata": {},
   "source": [
    "# Clean dataset"
   ]
  },
  {
   "cell_type": "code",
   "execution_count": 119,
   "metadata": {
    "collapsed": true
   },
   "outputs": [],
   "source": [
    "data = pd.read_csv('blocks.dat.gz', sep=' ', index_col=0)"
   ]
  },
  {
   "cell_type": "code",
   "execution_count": 120,
   "metadata": {},
   "outputs": [
    {
     "data": {
      "text/html": [
       "<div>\n",
       "<style scoped>\n",
       "    .dataframe tbody tr th:only-of-type {\n",
       "        vertical-align: middle;\n",
       "    }\n",
       "\n",
       "    .dataframe tbody tr th {\n",
       "        vertical-align: top;\n",
       "    }\n",
       "\n",
       "    .dataframe thead th {\n",
       "        text-align: right;\n",
       "    }\n",
       "</style>\n",
       "<table border=\"1\" class=\"dataframe\">\n",
       "  <thead>\n",
       "    <tr style=\"text-align: right;\">\n",
       "      <th></th>\n",
       "      <th>timestamp</th>\n",
       "      <th>hash</th>\n",
       "      <th>previous_block_hash</th>\n",
       "      <th>n_transactions</th>\n",
       "      <th>txid</th>\n",
       "      <th>reward</th>\n",
       "      <th>difficulty</th>\n",
       "      <th>bits</th>\n",
       "      <th>nonce</th>\n",
       "      <th>size</th>\n",
       "    </tr>\n",
       "    <tr>\n",
       "      <th>block_count</th>\n",
       "      <th></th>\n",
       "      <th></th>\n",
       "      <th></th>\n",
       "      <th></th>\n",
       "      <th></th>\n",
       "      <th></th>\n",
       "      <th></th>\n",
       "      <th></th>\n",
       "      <th></th>\n",
       "      <th></th>\n",
       "    </tr>\n",
       "  </thead>\n",
       "  <tbody>\n",
       "    <tr>\n",
       "      <th>0</th>\n",
       "      <td>1231006505</td>\n",
       "      <td>000000000019d6689c085ae165831e934ff763ae46a2a6...</td>\n",
       "      <td>0000000000000000000000000000000000000000000000...</td>\n",
       "      <td>1</td>\n",
       "      <td>4a5e1e4baab89f3a32518a88c31bc87f618f76673e2cc7...</td>\n",
       "      <td>5000000000</td>\n",
       "      <td>1.0</td>\n",
       "      <td>486604799</td>\n",
       "      <td>2083236893</td>\n",
       "      <td>285</td>\n",
       "    </tr>\n",
       "    <tr>\n",
       "      <th>1</th>\n",
       "      <td>1231469665</td>\n",
       "      <td>00000000839a8e6886ab5951d76f411475428afc90947e...</td>\n",
       "      <td>000000000019d6689c085ae165831e934ff763ae46a2a6...</td>\n",
       "      <td>1</td>\n",
       "      <td>0e3e2357e806b6cdb1f70b54c3a3a17b6714ee1f0e68be...</td>\n",
       "      <td>5000000000</td>\n",
       "      <td>1.0</td>\n",
       "      <td>486604799</td>\n",
       "      <td>2573394689</td>\n",
       "      <td>215</td>\n",
       "    </tr>\n",
       "    <tr>\n",
       "      <th>2</th>\n",
       "      <td>1231469744</td>\n",
       "      <td>000000006a625f06636b8bb6ac7b960a8d03705d1ace08...</td>\n",
       "      <td>00000000839a8e6886ab5951d76f411475428afc90947e...</td>\n",
       "      <td>1</td>\n",
       "      <td>9b0fc92260312ce44e74ef369f5c66bbb85848f2eddd5a...</td>\n",
       "      <td>5000000000</td>\n",
       "      <td>1.0</td>\n",
       "      <td>486604799</td>\n",
       "      <td>1639830024</td>\n",
       "      <td>215</td>\n",
       "    </tr>\n",
       "    <tr>\n",
       "      <th>3</th>\n",
       "      <td>1231470173</td>\n",
       "      <td>0000000082b5015589a3fdf2d4baff403e6f0be035a5d9...</td>\n",
       "      <td>000000006a625f06636b8bb6ac7b960a8d03705d1ace08...</td>\n",
       "      <td>1</td>\n",
       "      <td>999e1c837c76a1b7fbb7e57baf87b309960f5ffefbf2a9...</td>\n",
       "      <td>5000000000</td>\n",
       "      <td>1.0</td>\n",
       "      <td>486604799</td>\n",
       "      <td>1844305925</td>\n",
       "      <td>215</td>\n",
       "    </tr>\n",
       "    <tr>\n",
       "      <th>4</th>\n",
       "      <td>1231470988</td>\n",
       "      <td>000000004ebadb55ee9096c9a2f8880e09da59c0d68b1c...</td>\n",
       "      <td>0000000082b5015589a3fdf2d4baff403e6f0be035a5d9...</td>\n",
       "      <td>1</td>\n",
       "      <td>df2b060fa2e5e9c8ed5eaf6a45c13753ec8c63282b2688...</td>\n",
       "      <td>5000000000</td>\n",
       "      <td>1.0</td>\n",
       "      <td>486604799</td>\n",
       "      <td>2850094635</td>\n",
       "      <td>215</td>\n",
       "    </tr>\n",
       "  </tbody>\n",
       "</table>\n",
       "</div>"
      ],
      "text/plain": [
       "              timestamp                                               hash  \\\n",
       "block_count                                                                  \n",
       "0            1231006505  000000000019d6689c085ae165831e934ff763ae46a2a6...   \n",
       "1            1231469665  00000000839a8e6886ab5951d76f411475428afc90947e...   \n",
       "2            1231469744  000000006a625f06636b8bb6ac7b960a8d03705d1ace08...   \n",
       "3            1231470173  0000000082b5015589a3fdf2d4baff403e6f0be035a5d9...   \n",
       "4            1231470988  000000004ebadb55ee9096c9a2f8880e09da59c0d68b1c...   \n",
       "\n",
       "                                           previous_block_hash  \\\n",
       "block_count                                                      \n",
       "0            0000000000000000000000000000000000000000000000...   \n",
       "1            000000000019d6689c085ae165831e934ff763ae46a2a6...   \n",
       "2            00000000839a8e6886ab5951d76f411475428afc90947e...   \n",
       "3            000000006a625f06636b8bb6ac7b960a8d03705d1ace08...   \n",
       "4            0000000082b5015589a3fdf2d4baff403e6f0be035a5d9...   \n",
       "\n",
       "             n_transactions  \\\n",
       "block_count                   \n",
       "0                         1   \n",
       "1                         1   \n",
       "2                         1   \n",
       "3                         1   \n",
       "4                         1   \n",
       "\n",
       "                                                          txid      reward  \\\n",
       "block_count                                                                  \n",
       "0            4a5e1e4baab89f3a32518a88c31bc87f618f76673e2cc7...  5000000000   \n",
       "1            0e3e2357e806b6cdb1f70b54c3a3a17b6714ee1f0e68be...  5000000000   \n",
       "2            9b0fc92260312ce44e74ef369f5c66bbb85848f2eddd5a...  5000000000   \n",
       "3            999e1c837c76a1b7fbb7e57baf87b309960f5ffefbf2a9...  5000000000   \n",
       "4            df2b060fa2e5e9c8ed5eaf6a45c13753ec8c63282b2688...  5000000000   \n",
       "\n",
       "             difficulty       bits       nonce  size  \n",
       "block_count                                           \n",
       "0                   1.0  486604799  2083236893   285  \n",
       "1                   1.0  486604799  2573394689   215  \n",
       "2                   1.0  486604799  1639830024   215  \n",
       "3                   1.0  486604799  1844305925   215  \n",
       "4                   1.0  486604799  2850094635   215  "
      ]
     },
     "execution_count": 120,
     "metadata": {},
     "output_type": "execute_result"
    }
   ],
   "source": [
    "data.head()"
   ]
  },
  {
   "cell_type": "code",
   "execution_count": 121,
   "metadata": {},
   "outputs": [
    {
     "data": {
      "text/plain": [
       "timestamp                int64\n",
       "hash                    object\n",
       "previous_block_hash     object\n",
       "n_transactions           int64\n",
       "txid                    object\n",
       "reward                   int64\n",
       "difficulty             float64\n",
       "bits                     int64\n",
       "nonce                    int64\n",
       "size                     int64\n",
       "dtype: object"
      ]
     },
     "execution_count": 121,
     "metadata": {},
     "output_type": "execute_result"
    }
   ],
   "source": [
    "data.dtypes"
   ]
  },
  {
   "cell_type": "code",
   "execution_count": 122,
   "metadata": {},
   "outputs": [
    {
     "data": {
      "text/plain": [
       "5660140"
      ]
     },
     "execution_count": 122,
     "metadata": {},
     "output_type": "execute_result"
    }
   ],
   "source": [
    "data.size"
   ]
  },
  {
   "cell_type": "markdown",
   "metadata": {},
   "source": [
    "## Remove dangling blocks"
   ]
  },
  {
   "cell_type": "code",
   "execution_count": 123,
   "metadata": {},
   "outputs": [],
   "source": [
    "data = data.set_index('hash').reindex(block_ids).reset_index().dropna()"
   ]
  },
  {
   "cell_type": "code",
   "execution_count": 124,
   "metadata": {},
   "outputs": [
    {
     "data": {
      "text/html": [
       "<div>\n",
       "<style scoped>\n",
       "    .dataframe tbody tr th:only-of-type {\n",
       "        vertical-align: middle;\n",
       "    }\n",
       "\n",
       "    .dataframe tbody tr th {\n",
       "        vertical-align: top;\n",
       "    }\n",
       "\n",
       "    .dataframe thead th {\n",
       "        text-align: right;\n",
       "    }\n",
       "</style>\n",
       "<table border=\"1\" class=\"dataframe\">\n",
       "  <thead>\n",
       "    <tr style=\"text-align: right;\">\n",
       "      <th></th>\n",
       "      <th>hash</th>\n",
       "      <th>timestamp</th>\n",
       "      <th>previous_block_hash</th>\n",
       "      <th>n_transactions</th>\n",
       "      <th>txid</th>\n",
       "      <th>reward</th>\n",
       "      <th>difficulty</th>\n",
       "      <th>bits</th>\n",
       "      <th>nonce</th>\n",
       "      <th>size</th>\n",
       "    </tr>\n",
       "  </thead>\n",
       "  <tbody>\n",
       "    <tr>\n",
       "      <th>0</th>\n",
       "      <td>000000000378457ab84153a2425351a5f4388096d0dffe...</td>\n",
       "      <td>1278237139</td>\n",
       "      <td>00000000070f1a5834e86a8306716f8996752a9bc27ca2...</td>\n",
       "      <td>1</td>\n",
       "      <td>d0d33d13aafba2ddeba00172e5bebb9f2b05c4c0c307c2...</td>\n",
       "      <td>5000000000</td>\n",
       "      <td>1.940480e+01</td>\n",
       "      <td>470626626</td>\n",
       "      <td>241519822</td>\n",
       "      <td>216</td>\n",
       "    </tr>\n",
       "    <tr>\n",
       "      <th>1</th>\n",
       "      <td>0000000000000218aaaf48f61598693408303d8d8fc074...</td>\n",
       "      <td>1335831604</td>\n",
       "      <td>0000000000000a57f17bbe39279fdb4996757c25fc19f2...</td>\n",
       "      <td>10</td>\n",
       "      <td>910eb03b277057d80d262fffba76dd1e7660ef65f1e97b...</td>\n",
       "      <td>5000200000</td>\n",
       "      <td>1.508590e+06</td>\n",
       "      <td>436936439</td>\n",
       "      <td>3345554202</td>\n",
       "      <td>3017</td>\n",
       "    </tr>\n",
       "    <tr>\n",
       "      <th>2</th>\n",
       "      <td>000000000000000020b9312b04143e00d1d6db7a985bcd...</td>\n",
       "      <td>1411123732</td>\n",
       "      <td>00000000000000001a61ee54acdbbd001875da79872eca...</td>\n",
       "      <td>497</td>\n",
       "      <td>e82054dd2086ce2e6c613da438791c5901f5a5be0fe74a...</td>\n",
       "      <td>2507539665</td>\n",
       "      <td>2.982973e+10</td>\n",
       "      <td>405068777</td>\n",
       "      <td>2775086569</td>\n",
       "      <td>261617</td>\n",
       "    </tr>\n",
       "    <tr>\n",
       "      <th>3</th>\n",
       "      <td>000000000000054a5801dee3870560494d949540ba505b...</td>\n",
       "      <td>1314417553</td>\n",
       "      <td>000000000000016621de182bbed7f40415fe98f9dc6111...</td>\n",
       "      <td>63</td>\n",
       "      <td>e1c0902512cb02113b73c8b8a856139fea2b7407e8db07...</td>\n",
       "      <td>5019366401</td>\n",
       "      <td>1.805701e+06</td>\n",
       "      <td>436816518</td>\n",
       "      <td>4241934319</td>\n",
       "      <td>63239</td>\n",
       "    </tr>\n",
       "    <tr>\n",
       "      <th>4</th>\n",
       "      <td>0000000000344ce7b827a5da8502e3dd4cff0b77681aaa...</td>\n",
       "      <td>1284000941</td>\n",
       "      <td>00000000002a7559b84f901cfcd8edc99f7700b2e9c495...</td>\n",
       "      <td>3</td>\n",
       "      <td>b5de90257c4b9bba48a1af12c74e0a763f7133450a7f84...</td>\n",
       "      <td>5001000000</td>\n",
       "      <td>7.128849e+02</td>\n",
       "      <td>459009510</td>\n",
       "      <td>2729335466</td>\n",
       "      <td>2293</td>\n",
       "    </tr>\n",
       "  </tbody>\n",
       "</table>\n",
       "</div>"
      ],
      "text/plain": [
       "                                                hash   timestamp  \\\n",
       "0  000000000378457ab84153a2425351a5f4388096d0dffe...  1278237139   \n",
       "1  0000000000000218aaaf48f61598693408303d8d8fc074...  1335831604   \n",
       "2  000000000000000020b9312b04143e00d1d6db7a985bcd...  1411123732   \n",
       "3  000000000000054a5801dee3870560494d949540ba505b...  1314417553   \n",
       "4  0000000000344ce7b827a5da8502e3dd4cff0b77681aaa...  1284000941   \n",
       "\n",
       "                                 previous_block_hash  n_transactions  \\\n",
       "0  00000000070f1a5834e86a8306716f8996752a9bc27ca2...               1   \n",
       "1  0000000000000a57f17bbe39279fdb4996757c25fc19f2...              10   \n",
       "2  00000000000000001a61ee54acdbbd001875da79872eca...             497   \n",
       "3  000000000000016621de182bbed7f40415fe98f9dc6111...              63   \n",
       "4  00000000002a7559b84f901cfcd8edc99f7700b2e9c495...               3   \n",
       "\n",
       "                                                txid      reward  \\\n",
       "0  d0d33d13aafba2ddeba00172e5bebb9f2b05c4c0c307c2...  5000000000   \n",
       "1  910eb03b277057d80d262fffba76dd1e7660ef65f1e97b...  5000200000   \n",
       "2  e82054dd2086ce2e6c613da438791c5901f5a5be0fe74a...  2507539665   \n",
       "3  e1c0902512cb02113b73c8b8a856139fea2b7407e8db07...  5019366401   \n",
       "4  b5de90257c4b9bba48a1af12c74e0a763f7133450a7f84...  5001000000   \n",
       "\n",
       "     difficulty       bits       nonce    size  \n",
       "0  1.940480e+01  470626626   241519822     216  \n",
       "1  1.508590e+06  436936439  3345554202    3017  \n",
       "2  2.982973e+10  405068777  2775086569  261617  \n",
       "3  1.805701e+06  436816518  4241934319   63239  \n",
       "4  7.128849e+02  459009510  2729335466    2293  "
      ]
     },
     "execution_count": 124,
     "metadata": {},
     "output_type": "execute_result"
    }
   ],
   "source": [
    "data.head()"
   ]
  },
  {
   "cell_type": "code",
   "execution_count": 125,
   "metadata": {},
   "outputs": [
    {
     "data": {
      "text/plain": [
       "5659630"
      ]
     },
     "execution_count": 125,
     "metadata": {},
     "output_type": "execute_result"
    }
   ],
   "source": [
    "data.size"
   ]
  },
  {
   "cell_type": "code",
   "execution_count": 126,
   "metadata": {},
   "outputs": [],
   "source": [
    "data.index = pd.to_datetime(data['timestamp'].astype('int'), unit='s')"
   ]
  },
  {
   "cell_type": "code",
   "execution_count": 127,
   "metadata": {},
   "outputs": [
    {
     "data": {
      "text/html": [
       "<div>\n",
       "<style scoped>\n",
       "    .dataframe tbody tr th:only-of-type {\n",
       "        vertical-align: middle;\n",
       "    }\n",
       "\n",
       "    .dataframe tbody tr th {\n",
       "        vertical-align: top;\n",
       "    }\n",
       "\n",
       "    .dataframe thead th {\n",
       "        text-align: right;\n",
       "    }\n",
       "</style>\n",
       "<table border=\"1\" class=\"dataframe\">\n",
       "  <thead>\n",
       "    <tr style=\"text-align: right;\">\n",
       "      <th></th>\n",
       "      <th>hash</th>\n",
       "      <th>timestamp</th>\n",
       "      <th>previous_block_hash</th>\n",
       "      <th>n_transactions</th>\n",
       "      <th>txid</th>\n",
       "      <th>reward</th>\n",
       "      <th>difficulty</th>\n",
       "      <th>bits</th>\n",
       "      <th>nonce</th>\n",
       "      <th>size</th>\n",
       "    </tr>\n",
       "    <tr>\n",
       "      <th>timestamp</th>\n",
       "      <th></th>\n",
       "      <th></th>\n",
       "      <th></th>\n",
       "      <th></th>\n",
       "      <th></th>\n",
       "      <th></th>\n",
       "      <th></th>\n",
       "      <th></th>\n",
       "      <th></th>\n",
       "      <th></th>\n",
       "    </tr>\n",
       "  </thead>\n",
       "  <tbody>\n",
       "    <tr>\n",
       "      <th>2010-07-04 09:52:19</th>\n",
       "      <td>000000000378457ab84153a2425351a5f4388096d0dffe...</td>\n",
       "      <td>1278237139</td>\n",
       "      <td>00000000070f1a5834e86a8306716f8996752a9bc27ca2...</td>\n",
       "      <td>1</td>\n",
       "      <td>d0d33d13aafba2ddeba00172e5bebb9f2b05c4c0c307c2...</td>\n",
       "      <td>5000000000</td>\n",
       "      <td>1.940480e+01</td>\n",
       "      <td>470626626</td>\n",
       "      <td>241519822</td>\n",
       "      <td>216</td>\n",
       "    </tr>\n",
       "    <tr>\n",
       "      <th>2012-05-01 00:20:04</th>\n",
       "      <td>0000000000000218aaaf48f61598693408303d8d8fc074...</td>\n",
       "      <td>1335831604</td>\n",
       "      <td>0000000000000a57f17bbe39279fdb4996757c25fc19f2...</td>\n",
       "      <td>10</td>\n",
       "      <td>910eb03b277057d80d262fffba76dd1e7660ef65f1e97b...</td>\n",
       "      <td>5000200000</td>\n",
       "      <td>1.508590e+06</td>\n",
       "      <td>436936439</td>\n",
       "      <td>3345554202</td>\n",
       "      <td>3017</td>\n",
       "    </tr>\n",
       "    <tr>\n",
       "      <th>2014-09-19 10:48:52</th>\n",
       "      <td>000000000000000020b9312b04143e00d1d6db7a985bcd...</td>\n",
       "      <td>1411123732</td>\n",
       "      <td>00000000000000001a61ee54acdbbd001875da79872eca...</td>\n",
       "      <td>497</td>\n",
       "      <td>e82054dd2086ce2e6c613da438791c5901f5a5be0fe74a...</td>\n",
       "      <td>2507539665</td>\n",
       "      <td>2.982973e+10</td>\n",
       "      <td>405068777</td>\n",
       "      <td>2775086569</td>\n",
       "      <td>261617</td>\n",
       "    </tr>\n",
       "    <tr>\n",
       "      <th>2011-08-27 03:59:13</th>\n",
       "      <td>000000000000054a5801dee3870560494d949540ba505b...</td>\n",
       "      <td>1314417553</td>\n",
       "      <td>000000000000016621de182bbed7f40415fe98f9dc6111...</td>\n",
       "      <td>63</td>\n",
       "      <td>e1c0902512cb02113b73c8b8a856139fea2b7407e8db07...</td>\n",
       "      <td>5019366401</td>\n",
       "      <td>1.805701e+06</td>\n",
       "      <td>436816518</td>\n",
       "      <td>4241934319</td>\n",
       "      <td>63239</td>\n",
       "    </tr>\n",
       "    <tr>\n",
       "      <th>2010-09-09 02:55:41</th>\n",
       "      <td>0000000000344ce7b827a5da8502e3dd4cff0b77681aaa...</td>\n",
       "      <td>1284000941</td>\n",
       "      <td>00000000002a7559b84f901cfcd8edc99f7700b2e9c495...</td>\n",
       "      <td>3</td>\n",
       "      <td>b5de90257c4b9bba48a1af12c74e0a763f7133450a7f84...</td>\n",
       "      <td>5001000000</td>\n",
       "      <td>7.128849e+02</td>\n",
       "      <td>459009510</td>\n",
       "      <td>2729335466</td>\n",
       "      <td>2293</td>\n",
       "    </tr>\n",
       "  </tbody>\n",
       "</table>\n",
       "</div>"
      ],
      "text/plain": [
       "                                                                  hash  \\\n",
       "timestamp                                                                \n",
       "2010-07-04 09:52:19  000000000378457ab84153a2425351a5f4388096d0dffe...   \n",
       "2012-05-01 00:20:04  0000000000000218aaaf48f61598693408303d8d8fc074...   \n",
       "2014-09-19 10:48:52  000000000000000020b9312b04143e00d1d6db7a985bcd...   \n",
       "2011-08-27 03:59:13  000000000000054a5801dee3870560494d949540ba505b...   \n",
       "2010-09-09 02:55:41  0000000000344ce7b827a5da8502e3dd4cff0b77681aaa...   \n",
       "\n",
       "                      timestamp  \\\n",
       "timestamp                         \n",
       "2010-07-04 09:52:19  1278237139   \n",
       "2012-05-01 00:20:04  1335831604   \n",
       "2014-09-19 10:48:52  1411123732   \n",
       "2011-08-27 03:59:13  1314417553   \n",
       "2010-09-09 02:55:41  1284000941   \n",
       "\n",
       "                                                   previous_block_hash  \\\n",
       "timestamp                                                                \n",
       "2010-07-04 09:52:19  00000000070f1a5834e86a8306716f8996752a9bc27ca2...   \n",
       "2012-05-01 00:20:04  0000000000000a57f17bbe39279fdb4996757c25fc19f2...   \n",
       "2014-09-19 10:48:52  00000000000000001a61ee54acdbbd001875da79872eca...   \n",
       "2011-08-27 03:59:13  000000000000016621de182bbed7f40415fe98f9dc6111...   \n",
       "2010-09-09 02:55:41  00000000002a7559b84f901cfcd8edc99f7700b2e9c495...   \n",
       "\n",
       "                     n_transactions  \\\n",
       "timestamp                             \n",
       "2010-07-04 09:52:19               1   \n",
       "2012-05-01 00:20:04              10   \n",
       "2014-09-19 10:48:52             497   \n",
       "2011-08-27 03:59:13              63   \n",
       "2010-09-09 02:55:41               3   \n",
       "\n",
       "                                                                  txid  \\\n",
       "timestamp                                                                \n",
       "2010-07-04 09:52:19  d0d33d13aafba2ddeba00172e5bebb9f2b05c4c0c307c2...   \n",
       "2012-05-01 00:20:04  910eb03b277057d80d262fffba76dd1e7660ef65f1e97b...   \n",
       "2014-09-19 10:48:52  e82054dd2086ce2e6c613da438791c5901f5a5be0fe74a...   \n",
       "2011-08-27 03:59:13  e1c0902512cb02113b73c8b8a856139fea2b7407e8db07...   \n",
       "2010-09-09 02:55:41  b5de90257c4b9bba48a1af12c74e0a763f7133450a7f84...   \n",
       "\n",
       "                         reward    difficulty       bits       nonce    size  \n",
       "timestamp                                                                     \n",
       "2010-07-04 09:52:19  5000000000  1.940480e+01  470626626   241519822     216  \n",
       "2012-05-01 00:20:04  5000200000  1.508590e+06  436936439  3345554202    3017  \n",
       "2014-09-19 10:48:52  2507539665  2.982973e+10  405068777  2775086569  261617  \n",
       "2011-08-27 03:59:13  5019366401  1.805701e+06  436816518  4241934319   63239  \n",
       "2010-09-09 02:55:41  5001000000  7.128849e+02  459009510  2729335466    2293  "
      ]
     },
     "execution_count": 127,
     "metadata": {},
     "output_type": "execute_result"
    }
   ],
   "source": [
    "data.head()"
   ]
  },
  {
   "cell_type": "code",
   "execution_count": 128,
   "metadata": {},
   "outputs": [
    {
     "data": {
      "text/plain": [
       "<matplotlib.axes._subplots.AxesSubplot at 0x1cfd54be0>"
      ]
     },
     "execution_count": 128,
     "metadata": {},
     "output_type": "execute_result"
    },
    {
     "data": {
      "image/png": "[encoded data removed]",
      "text/plain": [
       "<Figure size 432x288 with 1 Axes>"
      ]
     },
     "metadata": {},
     "output_type": "display_data"
    }
   ],
   "source": [
    "data[['n_transactions']].resample('M').sum().plot()"
   ]
  },
  {
   "cell_type": "code",
   "execution_count": 130,
   "metadata": {},
   "outputs": [
    {
     "data": {
      "text/plain": [
       "1092055.1803278688"
      ]
     },
     "execution_count": 130,
     "metadata": {},
     "output_type": "execute_result"
    }
   ],
   "source": [
    "data['size'].resample('M').mean().max()"
   ]
  },
  {
   "cell_type": "code",
   "execution_count": 131,
   "metadata": {},
   "outputs": [
    {
     "data": {
      "text/plain": [
       "1.0414648056030273"
      ]
     },
     "execution_count": 131,
     "metadata": {},
     "output_type": "execute_result"
    }
   ],
   "source": [
    "1092055/1024/1024"
   ]
  },
  {
   "cell_type": "code",
   "execution_count": null,
   "metadata": {
    "collapsed": true
   },
   "outputs": [],
   "source": []
  },
  {
   "cell_type": "code",
   "execution_count": null,
   "metadata": {
    "collapsed": true
   },
   "outputs": [],
   "source": []
  }
 ],
 "metadata": {
  "anaconda-cloud": {},
  "kernelspec": {
   "display_name": "Python [conda env:py35]",
   "language": "python",
   "name": "conda-env-py35-py"
  },
  "language_info": {
   "codemirror_mode": {
    "name": "ipython",
    "version": 3
   },
   "file_extension": ".py",
   "mimetype": "text/x-python",
   "name": "python",
   "nbconvert_exporter": "python",
   "pygments_lexer": "ipython3",
   "version": "3.5.2"
  }
 },
 "nbformat": 4,
 "nbformat_minor": 2
}
