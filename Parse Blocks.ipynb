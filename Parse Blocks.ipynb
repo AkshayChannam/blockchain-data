{
 "cells": [
  {
   "cell_type": "code",
   "execution_count": 4,
   "metadata": {
    "collapsed": true
   },
   "outputs": [],
   "source": [
    "import os\n",
    "import struct\n",
    "from binascii import hexlify"
   ]
  },
  {
   "cell_type": "code",
   "execution_count": 9,
   "metadata": {
    "collapsed": true
   },
   "outputs": [],
   "source": [
    "filename = \"data/blk00012_10B.dat\""
   ]
  },
  {
   "cell_type": "code",
   "execution_count": 3,
   "metadata": {
    "collapsed": true
   },
   "outputs": [],
   "source": [
    "def read_char(fp, size=32):\n",
    "    fmt = \"<%02us\" % size\n",
    "    return struct.unpack(fmt, fp.read(size))[0]\n",
    "\n",
    "def read_varint(fp):\n",
    "    size = struct.unpack(\"<B\", fp.read(1))[0]\n",
    "\n",
    "    if size < 253:\n",
    "        return size\n",
    "\n",
    "    if size == 253:\n",
    "        return read_uint(fp, 2)\n",
    "    elif size == 254:\n",
    "        return reat_uint(fp, 3)\n",
    "    elif size == 255:\n",
    "        return read_uint(fp, 4)\n",
    "\n",
    "def read_uint(fp, size=4):\n",
    "    if size == 2:\n",
    "        fmt = \"<H\"\n",
    "    elif size == 4:\n",
    "        fmt = \"<I\"\n",
    "    elif size == 8:\n",
    "        fmt = \"<Q\"\n",
    "\n",
    "    return struct.unpack(fmt, fp.read(size))[0]\n",
    "\n",
    "def read_int(fp, size=4):\n",
    "    if size == 2:\n",
    "        fmt = \"<h\"\n",
    "    elif size == 4:\n",
    "        fmt = \"<i\"\n",
    "    elif size == 8:\n",
    "        fmt = \"<q\"\n",
    "\n",
    "    return struct.unpack(fmt, fp.read(size))[0]\n",
    "\n",
    "def hashStr(data):\n",
    "    return str(hexlify(data[::-1]).decode(\"utf-8\"))"
   ]
  },
  {
   "cell_type": "code",
   "execution_count": 6,
   "metadata": {
    "collapsed": true
   },
   "outputs": [],
   "source": [
    "block_data = {}"
   ]
  },
  {
   "cell_type": "code",
   "execution_count": 10,
   "metadata": {},
   "outputs": [],
   "source": [
    "fp = open(filename, \"rb\")"
   ]
  },
  {
   "cell_type": "code",
   "execution_count": 11,
   "metadata": {},
   "outputs": [],
   "source": [
    "block_data[\"magic\"] = hashStr(read_char(fp, 4))"
   ]
  },
  {
   "cell_type": "code",
   "execution_count": 12,
   "metadata": {},
   "outputs": [
    {
     "data": {
      "text/plain": [
       "{'magic': 'd9b4bef9'}"
      ]
     },
     "execution_count": 12,
     "metadata": {},
     "output_type": "execute_result"
    }
   ],
   "source": [
    "block_data"
   ]
  },
  {
   "cell_type": "code",
   "execution_count": 13,
   "metadata": {
    "collapsed": true
   },
   "outputs": [],
   "source": [
    "block_data[\"size\"] = read_int(fp, 4)"
   ]
  },
  {
   "cell_type": "code",
   "execution_count": 14,
   "metadata": {},
   "outputs": [
    {
     "data": {
      "text/plain": [
       "{'magic': 'd9b4bef9', 'size': 249055}"
      ]
     },
     "execution_count": 14,
     "metadata": {},
     "output_type": "execute_result"
    }
   ],
   "source": [
    "block_data"
   ]
  },
  {
   "cell_type": "code",
   "execution_count": 15,
   "metadata": {
    "collapsed": true
   },
   "outputs": [],
   "source": [
    "header = {}\n",
    "header[\"version\"] = read_uint(fp, 4)\n",
    "header[\"prev-hash\"] = hashStr(read_char(fp, 32))"
   ]
  },
  {
   "cell_type": "code",
   "execution_count": 16,
   "metadata": {},
   "outputs": [
    {
     "data": {
      "text/plain": [
       "{'prev-hash': '000000000000027852cfd0197b51fbb303a08e7931a8ac92df530d4a9fc4ed15',\n",
       " 'version': 1}"
      ]
     },
     "execution_count": 16,
     "metadata": {},
     "output_type": "execute_result"
    }
   ],
   "source": [
    "header"
   ]
  },
  {
   "cell_type": "code",
   "execution_count": null,
   "metadata": {
    "collapsed": true
   },
   "outputs": [],
   "source": []
  }
 ],
 "metadata": {
  "anaconda-cloud": {},
  "kernelspec": {
   "display_name": "Python [conda env:py35]",
   "language": "python",
   "name": "conda-env-py35-py"
  },
  "language_info": {
   "codemirror_mode": {
    "name": "ipython",
    "version": 3
   },
   "file_extension": ".py",
   "mimetype": "text/x-python",
   "name": "python",
   "nbconvert_exporter": "python",
   "pygments_lexer": "ipython3",
   "version": "3.5.2"
  }
 },
 "nbformat": 4,
 "nbformat_minor": 2
}
